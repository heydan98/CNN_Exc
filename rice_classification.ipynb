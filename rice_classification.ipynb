{
  "nbformat": 4,
  "nbformat_minor": 0,
  "metadata": {
    "colab": {
      "provenance": []
    },
    "kernelspec": {
      "name": "python3",
      "display_name": "Python 3"
    },
    "language_info": {
      "name": "python"
    },
    "accelerator": "GPU",
    "gpuClass": "standard"
  },
  "cells": [
    {
      "cell_type": "code",
      "execution_count": null,
      "metadata": {
        "id": "yDvT2g-vkizj",
        "colab": {
          "base_uri": "https://localhost:8080/"
        },
        "outputId": "208682c8-c212-4f35-bf42-6f9fa14cc35d"
      },
      "outputs": [
        {
          "output_type": "stream",
          "name": "stdout",
          "text": [
            "Looking in indexes: https://pypi.org/simple, https://us-python.pkg.dev/colab-wheels/public/simple/\n",
            "Collecting opendatasets\n",
            "  Downloading opendatasets-0.1.22-py3-none-any.whl (15 kB)\n",
            "Requirement already satisfied: click in /usr/local/lib/python3.7/dist-packages (from opendatasets) (7.1.2)\n",
            "Requirement already satisfied: kaggle in /usr/local/lib/python3.7/dist-packages (from opendatasets) (1.5.12)\n",
            "Requirement already satisfied: tqdm in /usr/local/lib/python3.7/dist-packages (from opendatasets) (4.64.1)\n",
            "Requirement already satisfied: six>=1.10 in /usr/local/lib/python3.7/dist-packages (from kaggle->opendatasets) (1.15.0)\n",
            "Requirement already satisfied: python-slugify in /usr/local/lib/python3.7/dist-packages (from kaggle->opendatasets) (6.1.2)\n",
            "Requirement already satisfied: urllib3 in /usr/local/lib/python3.7/dist-packages (from kaggle->opendatasets) (1.24.3)\n",
            "Requirement already satisfied: requests in /usr/local/lib/python3.7/dist-packages (from kaggle->opendatasets) (2.23.0)\n",
            "Requirement already satisfied: certifi in /usr/local/lib/python3.7/dist-packages (from kaggle->opendatasets) (2022.9.24)\n",
            "Requirement already satisfied: python-dateutil in /usr/local/lib/python3.7/dist-packages (from kaggle->opendatasets) (2.8.2)\n",
            "Requirement already satisfied: text-unidecode>=1.3 in /usr/local/lib/python3.7/dist-packages (from python-slugify->kaggle->opendatasets) (1.3)\n",
            "Requirement already satisfied: chardet<4,>=3.0.2 in /usr/local/lib/python3.7/dist-packages (from requests->kaggle->opendatasets) (3.0.4)\n",
            "Requirement already satisfied: idna<3,>=2.5 in /usr/local/lib/python3.7/dist-packages (from requests->kaggle->opendatasets) (2.10)\n",
            "Installing collected packages: opendatasets\n",
            "Successfully installed opendatasets-0.1.22\n",
            "Looking in indexes: https://pypi.org/simple, https://us-python.pkg.dev/colab-wheels/public/simple/\n",
            "Requirement already satisfied: pandas in /usr/local/lib/python3.7/dist-packages (1.3.5)\n",
            "Requirement already satisfied: numpy>=1.17.3 in /usr/local/lib/python3.7/dist-packages (from pandas) (1.21.6)\n",
            "Requirement already satisfied: python-dateutil>=2.7.3 in /usr/local/lib/python3.7/dist-packages (from pandas) (2.8.2)\n",
            "Requirement already satisfied: pytz>=2017.3 in /usr/local/lib/python3.7/dist-packages (from pandas) (2022.6)\n",
            "Requirement already satisfied: six>=1.5 in /usr/local/lib/python3.7/dist-packages (from python-dateutil>=2.7.3->pandas) (1.15.0)\n"
          ]
        }
      ],
      "source": [
        "!pip install opendatasets\n",
        "!pip install pandas"
      ]
    },
    {
      "cell_type": "code",
      "source": [
        "cd /content/"
      ],
      "metadata": {
        "colab": {
          "base_uri": "https://localhost:8080/"
        },
        "id": "FMqD6g4Zlxnx",
        "outputId": "c75c14a6-50f5-440d-fdb0-03dfbb9548d0"
      },
      "execution_count": null,
      "outputs": [
        {
          "output_type": "stream",
          "name": "stdout",
          "text": [
            "/content\n"
          ]
        }
      ]
    },
    {
      "cell_type": "code",
      "source": [
        "import opendatasets as od\n",
        "import pandas\n",
        "  \n",
        "od.download(\n",
        "    \"https://www.kaggle.com/datasets/muratkokludataset/rice-image-dataset\",force = True)"
      ],
      "metadata": {
        "colab": {
          "base_uri": "https://localhost:8080/"
        },
        "id": "5eof7ylrl0JQ",
        "outputId": "3ee5fc0e-3dde-4c0f-ebd3-73056b897843"
      },
      "execution_count": null,
      "outputs": [
        {
          "output_type": "stream",
          "name": "stdout",
          "text": [
            "Please provide your Kaggle credentials to download this dataset. Learn more: http://bit.ly/kaggle-creds\n",
            "Your Kaggle username: heydan98\n",
            "Your Kaggle Key: ··········\n",
            "Downloading rice-image-dataset.zip to ./rice-image-dataset\n"
          ]
        },
        {
          "output_type": "stream",
          "name": "stderr",
          "text": [
            "100%|██████████| 219M/219M [00:01<00:00, 176MB/s]\n"
          ]
        },
        {
          "output_type": "stream",
          "name": "stdout",
          "text": [
            "\n"
          ]
        }
      ]
    },
    {
      "cell_type": "code",
      "source": [
        "import matplotlib.pyplot as plt\n",
        "import seaborn as sns\n",
        "import numpy as np\n",
        "import pandas as pd\n",
        "import random\n",
        "import cv2\n",
        "import os\n",
        "import PIL\n",
        "import pathlib\n",
        "from sklearn.metrics import classification_report, confusion_matrix\n",
        "\n",
        "\n",
        "import tensorflow as tf\n",
        "from tensorflow import keras\n",
        "from tensorflow.keras import layers\n",
        "from tensorflow.keras.models import Sequential\n",
        "from keras.callbacks import ModelCheckpoint, EarlyStopping, ReduceLROnPlateau\n",
        "from keras.preprocessing.image import ImageDataGenerator\n",
        "from keras.applications.vgg16 import VGG16"
      ],
      "metadata": {
        "id": "-Q933bsWmf7x"
      },
      "execution_count": null,
      "outputs": []
    },
    {
      "cell_type": "code",
      "source": [
        "cd rice-image-dataset/"
      ],
      "metadata": {
        "id": "zk0HHqRepIBJ",
        "outputId": "e1a338d1-90a1-4603-93e0-252999b2a3df",
        "colab": {
          "base_uri": "https://localhost:8080/"
        }
      },
      "execution_count": null,
      "outputs": [
        {
          "output_type": "stream",
          "name": "stdout",
          "text": [
            "/content/rice-image-dataset\n"
          ]
        }
      ]
    },
    {
      "cell_type": "code",
      "source": [
        "ls"
      ],
      "metadata": {
        "id": "gh837UNQpP7o",
        "outputId": "01e7c8d4-63b0-4466-a5dc-a88c6339cce0",
        "colab": {
          "base_uri": "https://localhost:8080/"
        }
      },
      "execution_count": null,
      "outputs": [
        {
          "output_type": "stream",
          "name": "stdout",
          "text": [
            "\u001b[0m\u001b[01;34mRice_Image_Dataset\u001b[0m/\n"
          ]
        }
      ]
    },
    {
      "cell_type": "code",
      "source": [
        "cd Rice_Image_Dataset/"
      ],
      "metadata": {
        "id": "1P60HsmVpTP4",
        "outputId": "05add3bd-a057-45da-9159-404262b6f447",
        "colab": {
          "base_uri": "https://localhost:8080/"
        }
      },
      "execution_count": null,
      "outputs": [
        {
          "output_type": "stream",
          "name": "stdout",
          "text": [
            "/content/rice-image-dataset/Rice_Image_Dataset\n"
          ]
        }
      ]
    },
    {
      "cell_type": "code",
      "source": [
        "ls"
      ],
      "metadata": {
        "id": "oRBvd15mpW84",
        "outputId": "2f2c528d-6eec-4a24-d51f-e0308e0d76c2",
        "colab": {
          "base_uri": "https://localhost:8080/"
        }
      },
      "execution_count": null,
      "outputs": [
        {
          "output_type": "stream",
          "name": "stdout",
          "text": [
            "\u001b[0m\u001b[01;34mArborio\u001b[0m/  \u001b[01;34mBasmati\u001b[0m/  \u001b[01;34mIpsala\u001b[0m/  \u001b[01;34mJasmine\u001b[0m/  \u001b[01;34mKaracadag\u001b[0m/  Rice_Citation_Request.txt\n"
          ]
        }
      ]
    },
    {
      "cell_type": "code",
      "source": [
        "import os\n",
        "\n",
        "os.remove(\"Rice_Citation_Request.txt\")"
      ],
      "metadata": {
        "id": "HjjDdNsOpZLI"
      },
      "execution_count": null,
      "outputs": []
    },
    {
      "cell_type": "code",
      "source": [
        "ls"
      ],
      "metadata": {
        "id": "d6Ogdd_spmMw",
        "outputId": "3b108df6-8890-4ed7-f131-681cd5b977f4",
        "colab": {
          "base_uri": "https://localhost:8080/"
        }
      },
      "execution_count": null,
      "outputs": [
        {
          "output_type": "stream",
          "name": "stdout",
          "text": [
            "\u001b[0m\u001b[01;34mArborio\u001b[0m/  \u001b[01;34mBasmati\u001b[0m/  \u001b[01;34mIpsala\u001b[0m/  \u001b[01;34mJasmine\u001b[0m/  \u001b[01;34mKaracadag\u001b[0m/\n"
          ]
        }
      ]
    },
    {
      "cell_type": "code",
      "source": [
        "import shutil\n",
        "\n",
        "shutil.rmtree('Ipsala')\n",
        "shutil.rmtree('Jasmine')\n",
        "shutil.rmtree('Karacadag')    "
      ],
      "metadata": {
        "id": "9jw63xSdQn0F"
      },
      "execution_count": null,
      "outputs": []
    },
    {
      "cell_type": "code",
      "source": [
        "import cv2\n",
        "from pathlib import Path\n",
        "rice_dataset_folder = './'\n",
        "classnames = []\n",
        "for path in Path(rice_dataset_folder).iterdir():\n",
        "    if path.is_dir():\n",
        "        classnames.append(str(path).split('/')[-1])\n",
        "print(classnames)\n",
        "X = []\n",
        "y = []\n",
        "for i in range(len(classnames)):\n",
        "  print(classnames[i])\n",
        "  images = list(Path(rice_dataset_folder+classnames[i]).glob('*'))\n",
        "  for image in range(int(0.4*len(images))):\n",
        "    img = cv2.imread(str(images[image]))\n",
        "    img = cv2.resize(img, (128, 128))\n",
        "    img = img.astype('float32')\n",
        "    img = img/255\n",
        "    X.append(img)\n",
        "    y.append(i)"
      ],
      "metadata": {
        "id": "CFeTIVtFzJqY",
        "outputId": "559f9470-275e-4b1a-bbfd-21d17c6a1c2a",
        "colab": {
          "base_uri": "https://localhost:8080/"
        }
      },
      "execution_count": null,
      "outputs": [
        {
          "output_type": "stream",
          "name": "stdout",
          "text": [
            "['Arborio', 'Basmati']\n",
            "Arborio\n",
            "Basmati\n"
          ]
        }
      ]
    },
    {
      "cell_type": "code",
      "source": [
        "X = np.array(X)\n",
        "y = np.array(y)\n",
        "print(X.shape)\n",
        "print(y.shape)"
      ],
      "metadata": {
        "id": "g_bIkQN6p7XQ",
        "outputId": "964a21f7-0c6e-46a0-c2c0-e5749968134f",
        "colab": {
          "base_uri": "https://localhost:8080/"
        }
      },
      "execution_count": null,
      "outputs": [
        {
          "output_type": "stream",
          "name": "stdout",
          "text": [
            "(12000, 128, 128, 3)\n",
            "(12000,)\n"
          ]
        }
      ]
    },
    {
      "cell_type": "code",
      "source": [
        "from keras.utils import to_categorical\n",
        "y = to_categorical(y)\n",
        "print(y.shape)"
      ],
      "metadata": {
        "id": "sJ77_T9Xp_wg",
        "outputId": "2472bde0-47e0-4d63-ce91-29772d4a5cf8",
        "colab": {
          "base_uri": "https://localhost:8080/"
        }
      },
      "execution_count": null,
      "outputs": [
        {
          "output_type": "stream",
          "name": "stdout",
          "text": [
            "(12000, 2)\n"
          ]
        }
      ]
    },
    {
      "cell_type": "code",
      "source": [
        "from sklearn.model_selection import train_test_split\n",
        "X_train, X_test, y_train, y_test = train_test_split(X, y, test_size=0.2)"
      ],
      "metadata": {
        "id": "WK44pcwdqDJR"
      },
      "execution_count": null,
      "outputs": []
    },
    {
      "cell_type": "code",
      "source": [
        "from keras import models, layers\n",
        "from keras.layers import Flatten, Dense, Activation\n",
        "from keras.layers import Conv2D, MaxPooling2D\n",
        "from keras.utils import np_utils \n",
        "model = models.Sequential()\n",
        "model.add(Conv2D(32,kernel_size=(3,3),activation='relu',input_shape=(128,128,3),padding = 'same'))\n",
        "model.add(MaxPooling2D((2,2),padding='same'))\n",
        "model.add(Conv2D(64,kernel_size=(3,3),activation='relu',padding = 'same'))\n",
        "model.add(MaxPooling2D((2,2),padding='same'))\n",
        "model.add(Conv2D(128,kernel_size=(3,3),activation='relu',padding = 'same'))\n",
        "model.add(MaxPooling2D((2,2),padding='same'))\n",
        "model.add(Flatten(input_shape=[128, 128, 3]))\n",
        "model.add(Dense(1000, activation='relu'))\n",
        "model.add(Dense(3000, activation='relu'))\n",
        "model.add(Dense(2000, activation='relu'))\n",
        "model.add(Dense(500, activation='relu'))\n",
        "model.add(Dense(100, activation='relu'))\n",
        "model.add(Dense(2, activation='softmax'))\n",
        "model.summary()\n",
        "model.compile(optimizer='rmsprop', loss='categorical_crossentropy', metrics=['accuracy'])"
      ],
      "metadata": {
        "id": "edaXEC3zqFyw",
        "outputId": "40d0bb69-d61a-4df5-8645-0943a20c5b4f",
        "colab": {
          "base_uri": "https://localhost:8080/"
        }
      },
      "execution_count": null,
      "outputs": [
        {
          "output_type": "stream",
          "name": "stdout",
          "text": [
            "Model: \"sequential\"\n",
            "_________________________________________________________________\n",
            " Layer (type)                Output Shape              Param #   \n",
            "=================================================================\n",
            " conv2d (Conv2D)             (None, 128, 128, 32)      896       \n",
            "                                                                 \n",
            " max_pooling2d (MaxPooling2D  (None, 64, 64, 32)       0         \n",
            " )                                                               \n",
            "                                                                 \n",
            " conv2d_1 (Conv2D)           (None, 64, 64, 64)        18496     \n",
            "                                                                 \n",
            " max_pooling2d_1 (MaxPooling  (None, 32, 32, 64)       0         \n",
            " 2D)                                                             \n",
            "                                                                 \n",
            " conv2d_2 (Conv2D)           (None, 32, 32, 128)       73856     \n",
            "                                                                 \n",
            " max_pooling2d_2 (MaxPooling  (None, 16, 16, 128)      0         \n",
            " 2D)                                                             \n",
            "                                                                 \n",
            " flatten (Flatten)           (None, 32768)             0         \n",
            "                                                                 \n",
            " dense (Dense)               (None, 1000)              32769000  \n",
            "                                                                 \n",
            " dense_1 (Dense)             (None, 3000)              3003000   \n",
            "                                                                 \n",
            " dense_2 (Dense)             (None, 2000)              6002000   \n",
            "                                                                 \n",
            " dense_3 (Dense)             (None, 500)               1000500   \n",
            "                                                                 \n",
            " dense_4 (Dense)             (None, 100)               50100     \n",
            "                                                                 \n",
            " dense_5 (Dense)             (None, 2)                 202       \n",
            "                                                                 \n",
            "=================================================================\n",
            "Total params: 42,918,050\n",
            "Trainable params: 42,918,050\n",
            "Non-trainable params: 0\n",
            "_________________________________________________________________\n"
          ]
        }
      ]
    },
    {
      "cell_type": "code",
      "source": [
        "history = model.fit(X_train, y_train, epochs=20, batch_size=128, verbose=2)"
      ],
      "metadata": {
        "id": "5j3UlPgCQf79",
        "outputId": "4e9c8ce8-5594-433c-f39a-facba9fc23a5",
        "colab": {
          "base_uri": "https://localhost:8080/"
        }
      },
      "execution_count": null,
      "outputs": [
        {
          "output_type": "stream",
          "name": "stdout",
          "text": [
            "Epoch 1/20\n",
            "75/75 - 17s - loss: 0.4264 - accuracy: 0.9349 - 17s/epoch - 225ms/step\n",
            "Epoch 2/20\n",
            "75/75 - 6s - loss: 0.0357 - accuracy: 0.9918 - 6s/epoch - 82ms/step\n",
            "Epoch 3/20\n",
            "75/75 - 6s - loss: 0.0171 - accuracy: 0.9957 - 6s/epoch - 82ms/step\n",
            "Epoch 4/20\n",
            "75/75 - 6s - loss: 0.0497 - accuracy: 0.9968 - 6s/epoch - 82ms/step\n",
            "Epoch 5/20\n",
            "75/75 - 6s - loss: 0.0255 - accuracy: 0.9971 - 6s/epoch - 82ms/step\n",
            "Epoch 6/20\n",
            "75/75 - 6s - loss: 0.0367 - accuracy: 0.9955 - 6s/epoch - 83ms/step\n",
            "Epoch 7/20\n",
            "75/75 - 6s - loss: 3.4471e-05 - accuracy: 1.0000 - 6s/epoch - 83ms/step\n",
            "Epoch 8/20\n",
            "75/75 - 6s - loss: 3.8021e-08 - accuracy: 1.0000 - 6s/epoch - 84ms/step\n",
            "Epoch 9/20\n",
            "75/75 - 6s - loss: 0.1000 - accuracy: 0.9953 - 6s/epoch - 83ms/step\n",
            "Epoch 10/20\n",
            "75/75 - 6s - loss: 3.3715e-06 - accuracy: 1.0000 - 6s/epoch - 83ms/step\n",
            "Epoch 11/20\n",
            "75/75 - 6s - loss: 0.0891 - accuracy: 0.9937 - 6s/epoch - 83ms/step\n",
            "Epoch 12/20\n",
            "75/75 - 6s - loss: 0.0216 - accuracy: 0.9971 - 6s/epoch - 83ms/step\n",
            "Epoch 13/20\n",
            "75/75 - 6s - loss: 0.0662 - accuracy: 0.9924 - 6s/epoch - 84ms/step\n",
            "Epoch 14/20\n",
            "75/75 - 6s - loss: 0.0018 - accuracy: 0.9996 - 6s/epoch - 83ms/step\n",
            "Epoch 15/20\n",
            "75/75 - 6s - loss: 0.0011 - accuracy: 0.9998 - 6s/epoch - 83ms/step\n",
            "Epoch 16/20\n",
            "75/75 - 6s - loss: 0.0038 - accuracy: 0.9990 - 6s/epoch - 83ms/step\n",
            "Epoch 17/20\n",
            "75/75 - 6s - loss: 0.0012 - accuracy: 0.9998 - 6s/epoch - 83ms/step\n",
            "Epoch 18/20\n",
            "75/75 - 6s - loss: 0.0016 - accuracy: 0.9998 - 6s/epoch - 83ms/step\n",
            "Epoch 19/20\n",
            "75/75 - 6s - loss: 1.1716e-04 - accuracy: 0.9999 - 6s/epoch - 85ms/step\n",
            "Epoch 20/20\n",
            "75/75 - 6s - loss: 4.7187e-10 - accuracy: 1.0000 - 6s/epoch - 84ms/step\n"
          ]
        }
      ]
    },
    {
      "cell_type": "code",
      "source": [
        "model.evaluate(X_test, y_test)"
      ],
      "metadata": {
        "id": "-CB_qoa3R9CE",
        "outputId": "d8bf2ed8-11d0-49e8-e0c9-bd5a8f2d116f",
        "colab": {
          "base_uri": "https://localhost:8080/"
        }
      },
      "execution_count": null,
      "outputs": [
        {
          "output_type": "stream",
          "name": "stdout",
          "text": [
            "75/75 [==============================] - 1s 10ms/step - loss: 3.0782e-04 - accuracy: 0.9996\n"
          ]
        },
        {
          "output_type": "execute_result",
          "data": {
            "text/plain": [
              "[0.0003078161971643567, 0.9995833039283752]"
            ]
          },
          "metadata": {},
          "execution_count": 18
        }
      ]
    },
    {
      "cell_type": "code",
      "source": [
        "# n = 0\n",
        "n=5\n",
        "print(X_test[n].shape)\n",
        "plt.imshow(X_test[n])\n",
        "pred = model.predict(X_test[n].reshape(1, 128, 128, 3))\n",
        "print('Pred: ', classnames[pred.argmax()])\n",
        "print('True label: ', classnames[y_test[n].argmax()])"
      ],
      "metadata": {
        "id": "peasjvj7Sj5r",
        "outputId": "d66b44e4-5170-4069-9d75-be32253abebf",
        "colab": {
          "base_uri": "https://localhost:8080/",
          "height": 337
        }
      },
      "execution_count": null,
      "outputs": [
        {
          "output_type": "stream",
          "name": "stdout",
          "text": [
            "(128, 128, 3)\n",
            "1/1 [==============================] - 0s 187ms/step\n",
            "Pred:  Basmati\n",
            "True label:  Basmati\n"
          ]
        },
        {
          "output_type": "display_data",
          "data": {
            "text/plain": [
              "<Figure size 432x288 with 1 Axes>"
            ],
            "image/png": "[encoded data removed]"
          },
          "metadata": {
            "needs_background": "light"
          }
        }
      ]
    }
  ]
}